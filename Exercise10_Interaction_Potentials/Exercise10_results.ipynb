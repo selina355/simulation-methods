{
 "cells": [
  {
   "cell_type": "code",
   "execution_count": null,
   "metadata": {},
   "outputs": [],
   "source": [
    "import numpy as np\n",
    "import matplotlib.pyplot as plt\n",
    "import csv\n"
   ]
  },
  {
   "cell_type": "markdown",
   "metadata": {},
   "source": [
    "# Exercise 10 Interaction Potentials and Thermostats\n",
    "\n",
    "## 10.1 : Canonical Fluctuations\n",
    "To show that the canonical FLuctuations are given by $$ \\frac{\\sigma²_{T_K}}{\\langle T_K\\rangle} = \\frac{2}{3 \\ N}$$\n",
    "one can use Formula (2.4) from the lecture notes: $$ T_K =  \\frac{2}{3 \\ N}  E_K$$\n",
    "\n",
    "\n",
    "\n",
    "\n",
    "\n"
   ]
  }
 ],
 "metadata": {
  "language_info": {
   "name": "python"
  }
 },
 "nbformat": 4,
 "nbformat_minor": 2
}
